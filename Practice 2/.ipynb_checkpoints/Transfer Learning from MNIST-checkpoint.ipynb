{
 "cells": [
  {
   "cell_type": "markdown",
   "id": "canadian-arrow",
   "metadata": {},
   "source": [
    "# task 2 Transfer Learning from MNIST"
   ]
  },
  {
   "cell_type": "code",
   "execution_count": 268,
   "id": "academic-alfred",
   "metadata": {},
   "outputs": [],
   "source": [
    "import torch\n",
    "import torchvision\n",
    "import torchvision.datasets as datasets\n",
    "import torchvision.transforms as transforms\n",
    "from  torch.utils.data import DataLoader\n",
    "import matplotlib.pyplot as plt\n",
    "import torch.nn as nn\n",
    "import torch.nn.functional as F\n",
    "import torch.optim as optim\n",
    "import PIL.Image as Image\n",
    "import torchvision.models as models\n",
    "import numpy as np"
   ]
  },
  {
   "cell_type": "code",
   "execution_count": null,
   "id": "crazy-programmer",
   "metadata": {},
   "outputs": [],
   "source": [
    " "
   ]
  },
  {
   "cell_type": "code",
   "execution_count": null,
   "id": "advised-chinese",
   "metadata": {},
   "outputs": [],
   "source": [
    " "
   ]
  },
  {
   "cell_type": "code",
   "execution_count": 269,
   "id": "czech-funds",
   "metadata": {},
   "outputs": [],
   "source": [
    "batch_size=64\n",
    "\n",
    "datasets.MNIST.resources = [\n",
    "    ('https://ossci-datasets.s3.amazonaws.com/mnist/train-images-idx3-ubyte.gz', 'f68b3c2dcbeaaa9fbdd348bbdeb94873'),\n",
    "    ('https://ossci-datasets.s3.amazonaws.com/mnist/train-labels-idx1-ubyte.gz', 'd53e105ee54ea40749a09fcbcd1e9432'),\n",
    "    ('https://ossci-datasets.s3.amazonaws.com/mnist/t10k-images-idx3-ubyte.gz', '9fb629c4189551a2d022fa330f9573f3'),\n",
    "    ('https://ossci-datasets.s3.amazonaws.com/mnist/t10k-labels-idx1-ubyte.gz', 'ec29112dd5afa0611ce80d1b7f02629c')\n",
    "]\n",
    "\n",
    "trainset = datasets.MNIST(root='./', train=True,download=True, transform=transforms.Compose([transforms.ToTensor()]))\n",
    "trainloader = DataLoader(trainset, batch_size=batch_size,shuffle=True, num_workers=2)\n",
    "\n",
    "testset = datasets.MNIST(root='./', train=False, download=True, transform=transforms.ToTensor())\n",
    "testloader = DataLoader(testset, batch_size=batch_size,shuffle=False, num_workers=2)\n",
    " "
   ]
  },
  {
   "cell_type": "code",
   "execution_count": null,
   "id": "marine-advancement",
   "metadata": {},
   "outputs": [],
   "source": []
  },
  {
   "cell_type": "code",
   "execution_count": 270,
   "id": "therapeutic-command",
   "metadata": {},
   "outputs": [
    {
     "name": "stdout",
     "output_type": "stream",
     "text": [
      "torch.Size([1, 28, 28])\n"
     ]
    },
    {
     "data": {
      "image/png": "[encoded data removed]",
      "text/plain": [
       "<Figure size 432x288 with 1 Axes>"
      ]
     },
     "metadata": {
      "needs_background": "light"
     },
     "output_type": "display_data"
    },
    {
     "name": "stdout",
     "output_type": "stream",
     "text": [
      "tensor(5)\n"
     ]
    }
   ],
   "source": [
    "def plot_digit(data):\n",
    "    data = data.view(28, 28) #npimg = data.numpy() #img = transforms.ToPILImage(mode='L')(data)\n",
    "    plt.imshow(data, cmap=\"gray\")\n",
    "    plt.show()\n",
    "\n",
    "images, labels = next(iter(trainloader))\n",
    "print(images[0].shape)\n",
    "plot_digit(images[0])\n",
    "print(labels[0])"
   ]
  },
  {
   "cell_type": "code",
   "execution_count": 271,
   "id": "junior-latin",
   "metadata": {},
   "outputs": [],
   "source": [
    "class Net(nn.Module):\n",
    "\n",
    "    def __init__(self):\n",
    "        super().__init__()\n",
    "        self.conv1 = nn.Conv2d(1, 10, 5)\n",
    "        self.conv2 = nn.Conv2d(10, 20, 5)\n",
    "        self.pool = nn.MaxPool2d(2)\n",
    "        self.fc1 = nn.Linear(320, 128)\n",
    "        self.fc2 = nn.Linear(128, 10)\n",
    "\n",
    "    def forward(self, x):\n",
    "        #in_size = x.size(0)\n",
    "        x =self.pool(F.relu(self.conv1(x)))\n",
    "        x = self.pool(F.relu(self.conv2(x)))\n",
    "        #x = x.view(in_size, -1)  # flatten the tensor\n",
    "        x = x.view(-1, 320)   \n",
    "        x = F.relu(self.fc1(x))\n",
    "        x = self.fc2(x)\n",
    "        return F.log_softmax(x, dim=1)\n"
   ]
  },
  {
   "cell_type": "code",
   "execution_count": 272,
   "id": "immune-prevention",
   "metadata": {},
   "outputs": [],
   "source": [
    "net=Net()\n",
    "criterion = nn.CrossEntropyLoss()\n",
    "optimizer = optim.Adam(net.parameters(), lr=0.001)"
   ]
  },
  {
   "cell_type": "code",
   "execution_count": 273,
   "id": "wrong-image",
   "metadata": {},
   "outputs": [
    {
     "name": "stdout",
     "output_type": "stream",
     "text": [
      "[1,   938]training loss: 0.265\n",
      "\n",
      " validationlLoss: 0.074\n",
      "[2,   938]training loss: 0.075\n",
      "\n",
      " validationlLoss: 0.056\n",
      "[3,   938]training loss: 0.051\n",
      "\n",
      " validationlLoss: 0.046\n",
      "[4,   938]training loss: 0.038\n",
      "\n",
      " validationlLoss: 0.037\n",
      "[5,   938]training loss: 0.032\n",
      "\n",
      " validationlLoss: 0.034\n",
      "[6,   938]training loss: 0.025\n",
      "\n",
      " validationlLoss: 0.032\n",
      "[7,   938]training loss: 0.021\n",
      "\n",
      " validationlLoss: 0.035\n",
      "[8,   938]training loss: 0.017\n",
      "\n",
      " validationlLoss: 0.034\n",
      "[9,   938]training loss: 0.015\n",
      "\n",
      " validationlLoss: 0.032\n",
      "[10,   938]training loss: 0.013\n",
      "\n",
      " validationlLoss: 0.047\n",
      "[11,   938]training loss: 0.011\n",
      "\n",
      " validationlLoss: 0.031\n",
      "[12,   938]training loss: 0.011\n",
      "\n",
      " validationlLoss: 0.038\n",
      "[13,   938]training loss: 0.009\n",
      "\n",
      " validationlLoss: 0.042\n",
      "[14,   938]training loss: 0.009\n",
      "\n",
      " validationlLoss: 0.038\n",
      "[15,   938]training loss: 0.007\n",
      "\n",
      " validationlLoss: 0.037\n",
      "[16,   938]training loss: 0.006\n",
      "\n",
      " validationlLoss: 0.042\n",
      "[17,   938]training loss: 0.006\n",
      "\n",
      " validationlLoss: 0.043\n",
      "[18,   938]training loss: 0.005\n",
      "\n",
      " validationlLoss: 0.044\n",
      "[19,   938]training loss: 0.005\n",
      "\n",
      " validationlLoss: 0.052\n",
      "[20,   938]training loss: 0.006\n",
      "\n",
      " validationlLoss: 0.043\n",
      "Finished Training\n"
     ]
    }
   ],
   "source": [
    "    \n",
    "train_losses = []\n",
    "val_losses = []\n",
    "for epoch in range(20):  # loop over the dataset multiple time\n",
    "\n",
    "\n",
    "    net.train()\n",
    "    validation_loss=0.0\n",
    "    running_loss = 0.0\n",
    "    \n",
    "    \n",
    "    for i, data in enumerate(trainloader, 0):\n",
    "        # get the inputs; data is a list of [inputs, labels]\n",
    "        inputs, labels = data\n",
    "\n",
    "        # zero the parameter gradients\n",
    "        optimizer.zero_grad()\n",
    "\n",
    "        # forward + backward + optimize\n",
    "        outputs = net(inputs)\n",
    "        loss = criterion(outputs, labels)\n",
    "        loss.backward()\n",
    "        optimizer.step()\n",
    "\n",
    "        # print statistics\n",
    "        running_loss += loss.item()\n",
    "        \n",
    "    print('[%d, %5d]training loss: %.3f' %\n",
    "                  (epoch + 1, i + 1, running_loss /(i+1)))\n",
    "    \n",
    "    train_losses.append(running_loss/len(trainloader))\n",
    "   # print(i+1,len(trainloader))\n",
    "    running_loss = 0.0\n",
    " #validation\n",
    "\n",
    "    net.eval()\n",
    "    total = 0\n",
    "    correct=0\n",
    "    for i, data in enumerate(testloader, 0):\n",
    "        inputs, labels = data\n",
    "        outputs = net(inputs)\n",
    "        \n",
    "        loss = criterion(outputs , labels)\n",
    "        validation_loss += loss.item()\n",
    "    \n",
    "\n",
    "    \n",
    "    val_losses.append(validation_loss / len(testloader) )\n",
    "\n",
    "    print('\\n validationlLoss: {:.3f}'.format(validation_loss/ (i+1) ))\n",
    "    \n",
    "    validaton_loss=0.0\n",
    "\n",
    "torch.save(net.state_dict(), './model_mnist.pth')\n",
    "torch.save(optimizer.state_dict(), './optimizer_mnist.pth')\n",
    "print('Finished Training')\n",
    "\n",
    "\n"
   ]
  },
  {
   "cell_type": "code",
   "execution_count": 274,
   "id": "stock-tucson",
   "metadata": {},
   "outputs": [
    {
     "data": {
      "image/png": "[encoded data removed]",
      "text/plain": [
       "<Figure size 432x288 with 1 Axes>"
      ]
     },
     "metadata": {
      "needs_background": "light"
     },
     "output_type": "display_data"
    }
   ],
   "source": [
    "plt.plot(train_losses,label='Training Loss')  \n",
    "plt.plot(val_losses,label='Validation Loss')  \n",
    "plt.legend() \n",
    "plt.xlabel('Epochs')\n",
    "plt.ylabel('Loss')\n",
    "plt.show() "
   ]
  },
  {
   "cell_type": "code",
   "execution_count": 275,
   "id": "intermediate-trick",
   "metadata": {},
   "outputs": [
    {
     "name": "stdout",
     "output_type": "stream",
     "text": [
      "Accuracy of the network on the 10000 test images: 99 %\n"
     ]
    }
   ],
   "source": [
    "#accuracy on test data\n",
    "#test\n",
    "correct = 0\n",
    "total = 0\n",
    "with torch.no_grad():\n",
    "    for data in testloader:\n",
    "        images, labels = data\n",
    "        outputs = net(images)\n",
    "        _, predicted = torch.max(outputs.data, 1)\n",
    "        total += labels.size(0)\n",
    "        correct += (predicted == labels).sum().item()\n",
    "\n",
    "print('Accuracy of the network on the 10000 test images: %d %%' % (\n",
    "    100 * correct / total))"
   ]
  },
  {
   "cell_type": "code",
   "execution_count": 276,
   "id": "terminal-ocean",
   "metadata": {},
   "outputs": [
    {
     "data": {
      "text/plain": [
       "['CIFAR10',\n",
       " 'CIFAR100',\n",
       " 'Caltech101',\n",
       " 'Caltech256',\n",
       " 'CelebA',\n",
       " 'Cityscapes',\n",
       " 'CocoCaptions',\n",
       " 'CocoDetection',\n",
       " 'DatasetFolder',\n",
       " 'EMNIST',\n",
       " 'FakeData',\n",
       " 'FashionMNIST',\n",
       " 'Flickr30k',\n",
       " 'Flickr8k',\n",
       " 'HMDB51',\n",
       " 'ImageFolder',\n",
       " 'ImageNet',\n",
       " 'KMNIST',\n",
       " 'Kinetics400',\n",
       " 'LSUN',\n",
       " 'LSUNClass',\n",
       " 'MNIST',\n",
       " 'Omniglot',\n",
       " 'PhotoTour',\n",
       " 'Places365',\n",
       " 'QMNIST',\n",
       " 'SBDataset',\n",
       " 'SBU',\n",
       " 'SEMEION',\n",
       " 'STL10',\n",
       " 'SVHN',\n",
       " 'UCF101',\n",
       " 'USPS',\n",
       " 'VOCDetection',\n",
       " 'VOCSegmentation',\n",
       " 'VisionDataset',\n",
       " 'WIDERFace',\n",
       " '__all__',\n",
       " '__builtins__',\n",
       " '__cached__',\n",
       " '__doc__',\n",
       " '__file__',\n",
       " '__loader__',\n",
       " '__name__',\n",
       " '__package__',\n",
       " '__path__',\n",
       " '__spec__',\n",
       " 'caltech',\n",
       " 'celeba',\n",
       " 'cifar',\n",
       " 'cityscapes',\n",
       " 'coco',\n",
       " 'fakedata',\n",
       " 'flickr',\n",
       " 'folder',\n",
       " 'hmdb51',\n",
       " 'imagenet',\n",
       " 'kinetics',\n",
       " 'lsun',\n",
       " 'mnist',\n",
       " 'omniglot',\n",
       " 'phototour',\n",
       " 'places365',\n",
       " 'sbd',\n",
       " 'sbu',\n",
       " 'semeion',\n",
       " 'stl10',\n",
       " 'svhn',\n",
       " 'ucf101',\n",
       " 'usps',\n",
       " 'utils',\n",
       " 'video_utils',\n",
       " 'vision',\n",
       " 'voc',\n",
       " 'widerface']"
      ]
     },
     "execution_count": 276,
     "metadata": {},
     "output_type": "execute_result"
    }
   ],
   "source": [
    "dir(datasets)"
   ]
  },
  {
   "cell_type": "code",
   "execution_count": null,
   "id": "grateful-elements",
   "metadata": {},
   "outputs": [],
   "source": [
    " "
   ]
  },
  {
   "cell_type": "code",
   "execution_count": 277,
   "id": "waiting-picking",
   "metadata": {},
   "outputs": [],
   "source": [
    "batch_size=64\n",
    " \n",
    "\n",
    "transform=transforms.Compose([transforms.Grayscale(num_output_channels=1),\n",
    "                              transforms.Resize(28),\n",
    "                              \n",
    "                              transforms.ToTensor()]\n",
    "                           )\n",
    "def svhn_loaders(batch_size): \n",
    "    train = datasets.SVHN(\"./data/shvn\", split='train', download=True, transform=transform)\n",
    "    test = datasets.SVHN(\"./data/shvn\", split='test', download=True, transform=transform)\n",
    "    train_loader = torch.utils.data.DataLoader(train, batch_size=batch_size, shuffle=True, pin_memory=True)\n",
    "    test_loader = torch.utils.data.DataLoader(test, batch_size=batch_size, shuffle=False, pin_memory=True)\n",
    "    return train_loader, test_loader"
   ]
  },
  {
   "cell_type": "code",
   "execution_count": 278,
   "id": "thick-language",
   "metadata": {},
   "outputs": [
    {
     "name": "stdout",
     "output_type": "stream",
     "text": [
      "Using downloaded and verified file: ./data/shvn/train_32x32.mat\n",
      "Using downloaded and verified file: ./data/shvn/test_32x32.mat\n"
     ]
    }
   ],
   "source": [
    "train_loader, test_loader=svhn_loaders(batch_size)"
   ]
  },
  {
   "cell_type": "code",
   "execution_count": 279,
   "id": "second-washer",
   "metadata": {},
   "outputs": [
    {
     "name": "stdout",
     "output_type": "stream",
     "text": [
      "torch.Size([1, 28, 28])\n"
     ]
    },
    {
     "data": {
      "image/png": "[encoded data removed]",
      "text/plain": [
       "<Figure size 432x288 with 1 Axes>"
      ]
     },
     "metadata": {
      "needs_background": "light"
     },
     "output_type": "display_data"
    },
    {
     "name": "stdout",
     "output_type": "stream",
     "text": [
      "tensor([9, 8, 2, 2, 1, 3, 3, 3, 7, 0, 1, 5, 3, 6, 0, 5, 1, 3, 2, 1, 3, 6, 7, 4,\n",
      "        2, 2, 8, 3, 0, 3, 3, 5, 3, 3, 9, 1, 2, 8, 6, 6, 5, 2, 2, 3, 2, 1, 2, 1,\n",
      "        8, 7, 6, 3, 2, 0, 1, 2, 6, 8, 3, 4, 2, 6, 9, 2])\n"
     ]
    }
   ],
   "source": [
    "def imshow(img):\n",
    "    \"\"\"\"this function take a tensor image, unormalize it then converted it numpy format\"\"\"\n",
    "    #img = img / 2 + 0.5     # unnormalize\n",
    "    npimg = img.numpy()\n",
    "    plt.imshow(np.transpose(npimg, (1, 2, 0)))\n",
    "    plt.show()\n",
    "\n",
    "\n",
    "    \n",
    "images, labels = next(iter(train_loader))\n",
    "print(images[10].shape)\n",
    "imshow(images[10])\n",
    "print(labels)"
   ]
  },
  {
   "cell_type": "code",
   "execution_count": null,
   "id": "physical-parker",
   "metadata": {},
   "outputs": [],
   "source": [
    "\n",
    "model = Net()\n",
    "model.load_state_dict(torch.load('./model_mnist.pth'))\n",
    "#optimizer.load_state_dict(torch.load('./optimizer_mnist.pth'))#not working\n",
    "model.eval()"
   ]
  },
  {
   "cell_type": "code",
   "execution_count": 280,
   "id": "boring-minority",
   "metadata": {},
   "outputs": [],
   "source": [
    "\n",
    "optimizer = torch.optim.Adam(model.parameters(), lr=0.001)   # optimize all cnn parameters\n",
    "criterion = nn.CrossEntropyLoss()                       # the target label is not one-hotted"
   ]
  },
  {
   "cell_type": "code",
   "execution_count": 281,
   "id": "resident-disposition",
   "metadata": {},
   "outputs": [
    {
     "name": "stdout",
     "output_type": "stream",
     "text": [
      "[1,  1145]training loss: 0.753\n",
      "[2,  1145]training loss: 0.476\n",
      "[3,  1145]training loss: 0.407\n",
      "[4,  1145]training loss: 0.368\n",
      "[5,  1145]training loss: 0.338\n",
      "[6,  1145]training loss: 0.314\n",
      "[7,  1145]training loss: 0.294\n",
      "[8,  1145]training loss: 0.280\n",
      "[9,  1145]training loss: 0.265\n",
      "[10,  1145]training loss: 0.250\n",
      "[11,  1145]training loss: 0.239\n",
      "[12,  1145]training loss: 0.230\n",
      "[13,  1145]training loss: 0.219\n",
      "[14,  1145]training loss: 0.209\n",
      "[15,  1145]training loss: 0.201\n",
      "[16,  1145]training loss: 0.194\n",
      "[17,  1145]training loss: 0.186\n",
      "[18,  1145]training loss: 0.180\n",
      "[19,  1145]training loss: 0.173\n",
      "[20,  1145]training loss: 0.166\n"
     ]
    }
   ],
   "source": [
    "model.train()\n",
    "\n",
    "for epoch in range(20):\n",
    "    \n",
    "    running_loss = 0.0\n",
    "    \n",
    "    \n",
    "    for i, data in enumerate(train_loader,0):\n",
    "        # get the inputs; data is a list of [inputs, labels]\n",
    "        inputs, labels = data\n",
    "\n",
    "        # zero the parameter gradients\n",
    "        optimizer.zero_grad()\n",
    "\n",
    "        # forward + backward + optimize\n",
    "        outputs = model(inputs)\n",
    "        loss = criterion(outputs, labels)\n",
    "        loss.backward()\n",
    "        optimizer.step()\n",
    "\n",
    "        # print statistics\n",
    "        running_loss += loss.item()\n",
    "        \n",
    "    print('[%d, %5d]training loss: %.3f' %\n",
    "                  (epoch + 1, i + 1, running_loss /(i+1)))"
   ]
  },
  {
   "cell_type": "code",
   "execution_count": 282,
   "id": "twenty-label",
   "metadata": {},
   "outputs": [
    {
     "name": "stdout",
     "output_type": "stream",
     "text": [
      "Accuracy of the network on the 10000 test images: 88 %\n"
     ]
    }
   ],
   "source": [
    "correct = 0\n",
    "total = 0\n",
    "with torch.no_grad():\n",
    "    for data in test_loader:\n",
    "        images, labels = data\n",
    "        outputs = model(images)\n",
    "        _, predicted = torch.max(outputs.data, 1)\n",
    "        total += labels.size(0)\n",
    "        correct += (predicted == labels).sum().item()\n",
    "\n",
    "print('Accuracy of the network on the 10000 test images: %d %%' % (\n",
    "    100 * correct / total))"
   ]
  },
  {
   "cell_type": "markdown",
   "id": "satellite-syndication",
   "metadata": {},
   "source": [
    "Questions?\n",
    "1-as far as I know, transfer learning means taking  a model trained on a large dataset and transfer its knowledge to a smaller dataset\n",
    "why we transfer learning from MNIST to SVHN?\n",
    "2-if we have flactuated validation error , what dhould I do?\n"
   ]
  },
  {
   "cell_type": "code",
   "execution_count": null,
   "id": "shared-horror",
   "metadata": {},
   "outputs": [],
   "source": []
  },
  {
   "cell_type": "code",
   "execution_count": null,
   "id": "neither-export",
   "metadata": {},
   "outputs": [],
   "source": []
  },
  {
   "cell_type": "code",
   "execution_count": null,
   "id": "covered-visiting",
   "metadata": {},
   "outputs": [],
   "source": []
  },
  {
   "cell_type": "code",
   "execution_count": null,
   "id": "canadian-engineering",
   "metadata": {},
   "outputs": [],
   "source": []
  },
  {
   "cell_type": "code",
   "execution_count": null,
   "id": "incorrect-taylor",
   "metadata": {},
   "outputs": [],
   "source": []
  }
 ],
 "metadata": {
  "kernelspec": {
   "display_name": "Python 3",
   "language": "python",
   "name": "python3"
  },
  "language_info": {
   "codemirror_mode": {
    "name": "ipython",
    "version": 3
   },
   "file_extension": ".py",
   "mimetype": "text/x-python",
   "name": "python",
   "nbconvert_exporter": "python",
   "pygments_lexer": "ipython3",
   "version": "3.8.5"
  }
 },
 "nbformat": 4,
 "nbformat_minor": 5
}
