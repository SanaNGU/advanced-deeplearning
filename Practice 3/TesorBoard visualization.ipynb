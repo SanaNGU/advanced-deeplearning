{
 "cells": [
  {
   "cell_type": "code",
   "execution_count": 39,
   "id": "compact-mexican",
   "metadata": {},
   "outputs": [],
   "source": [
    "import torch\n",
    "import torchvision\n",
    "import torch.nn as nn  # All neural network modules, nn.Linear, nn.Conv2d, BatchNorm, Loss functions\n",
    "import torch.optim as optim  # For all Optimization algorithms, SGD, Adam, etc.\n",
    "import torch.nn.functional as F  # All functions that don't have any parameters\n",
    "import torchvision.datasets as datasets  # Has standard datasets we can import in a nice way\n",
    "import torchvision.transforms as transforms  # Transformations we can perform on our dataset\n",
    "from torch.utils.data import (\n",
    "    DataLoader,\n",
    ")  # Gives easier dataset managment and creates mini batches\n",
    "from torch.utils.tensorboard import SummaryWriter  # to print to tensorboard\n",
    "\n"
   ]
  },
  {
   "cell_type": "code",
   "execution_count": 40,
   "id": "saving-witness",
   "metadata": {},
   "outputs": [],
   "source": [
    "# Simple CNN\n",
    "class Net(nn.Module):\n",
    "\n",
    "    def __init__(self):\n",
    "        super().__init__()\n",
    "        self.conv1 = nn.Conv2d(1, 10, 5)\n",
    "        self.conv2 = nn.Conv2d(10, 20, 5)\n",
    "        self.pool = nn.MaxPool2d(2)\n",
    "        self.fc1 = nn.Linear(320, 10)\n",
    "        #self.fc2 = nn.Linear(128, 10)\n",
    "\n",
    "    def forward(self, x):\n",
    "        #in_size = x.size(0)\n",
    "        x =self.pool(F.relu(self.conv1(x)))\n",
    "        x = self.pool(F.relu(self.conv2(x)))\n",
    "        #x = x.view(in_size, -1)  # flatten the tensor\n",
    "        x = x.reshape(x.shape[0], -1)  \n",
    "        #x = F.relu(self.fc1(x))\n",
    "        x = self.fc1(x)\n",
    "        return x\n",
    "\n"
   ]
  },
  {
   "cell_type": "code",
   "execution_count": 41,
   "id": "listed-locking",
   "metadata": {},
   "outputs": [],
   "source": [
    "# Set device\n",
    "device = torch.device(\"cuda\" if torch.cuda.is_available() else \"cpu\")\n",
    "\n",
    "# Hyperparameters\n",
    "in_channels = 1\n",
    "num_classes = 10\n",
    "num_epochs = 1\n",
    "\n",
    "# Load Data\n",
    "datatrain_dataset = datasets.MNIST(root='./data', train=True, transform=transforms.ToTensor(), download=True)\n",
    "testset = datasets.MNIST(root='./data', train=False, download=True, transform=transforms.ToTensor())\n",
    "\n",
    "# To do hyperparameter search, include more batch_sizes you want to try\n",
    "# and more learning rates!\n",
    "batch_sizes = [256]\n",
    "learning_rates = [0.001]\n",
    "classes = [\"0\", \"1\", \"2\", \"3\", \"4\", \"5\", \"6\", \"7\", \"8\", \"9\"]\n",
    "\n",
    "\n"
   ]
  },
  {
   "cell_type": "code",
   "execution_count": 42,
   "id": "independent-empty",
   "metadata": {},
   "outputs": [],
   "source": [
    "for batch_size in batch_sizes:\n",
    "    for learning_rate in learning_rates:\n",
    "        step = 0\n",
    "        # Initialize network\n",
    "        model = Net()\n",
    "        model.to(device)\n",
    "        model.train()\n",
    "        criterion = nn.CrossEntropyLoss()\n",
    "        train_loader = DataLoader(datatrain_dataset, batch_size=batch_size, shuffle=True)\n",
    "        testloader = DataLoader(testset, batch_size=batch_size,shuffle=False, num_workers=2)\n",
    "\n",
    "        optimizer = optim.Adam(model.parameters(), lr=learning_rate, weight_decay=0.0)\n",
    "        writer = SummaryWriter(f\"runs/MNIST/MiniBatchSize {batch_size} LR {learning_rate}\"\n",
    "        )\n",
    "\n",
    "        # Visualize model in TensorBoard\n",
    "        images, _ = next(iter(train_loader))\n",
    "        writer.add_graph(model, images.to(device))\n",
    "        writer.close()\n",
    "\n",
    "        for epoch in range(num_epochs):\n",
    "            losses = []\n",
    "            accuracies = []\n",
    "\n",
    "            for batch_idx, (data, targets) in enumerate(train_loader):\n",
    "                # Get data to cuda if possible\n",
    "                data = data.to(device=device)\n",
    "                targets = targets.to(device=device)\n",
    "\n",
    "                # forward\n",
    "                scores = model(data)\n",
    "                loss = criterion(scores, targets)\n",
    "                losses.append(loss.item())\n",
    "\n",
    "                # backward\n",
    "                optimizer.zero_grad()\n",
    "                loss.backward()\n",
    "                optimizer.step()\n",
    "\n",
    "                # Calculate 'running' training accuracy\n",
    "                features = data.reshape(data.shape[0], -1)\n",
    "                img_grid = torchvision.utils.make_grid(data)\n",
    "                _, predictions = scores.max(1)\n",
    "                num_correct = (predictions == targets).sum()\n",
    "                running_train_acc = float(num_correct) / float(data.shape[0])\n",
    "                accuracies.append(running_train_acc)\n",
    "\n",
    "                # Plot things to tensorboard\n",
    "                class_labels = [classes[label] for label in predictions]\n",
    "                writer.add_image(\"mnist_images\", img_grid)\n",
    "                writer.add_histogram(\"fc1\", model.fc1.weight)\n",
    "                writer.add_scalar(\"Training loss\", loss, global_step=step)\n",
    "                writer.add_scalar(\n",
    "                    \"Training Accuracy\", running_train_acc, global_step=step\n",
    "                )\n",
    "\n",
    "                if batch_idx == 230:\n",
    "                    writer.add_embedding(features,metadata=class_labels,label_img=data,global_step=batch_idx,)\n",
    "                step += 1\n",
    "\n",
    "            writer.add_hparams(\n",
    "                {\"lr\": learning_rate, \"bsize\": batch_size},{\"accuracy\": sum(accuracies) / len(accuracies),\n",
    "                \"loss\": sum(losses) / len(losses),\n",
    "                },\n",
    "            )"
   ]
  },
  {
   "cell_type": "code",
   "execution_count": null,
   "id": "guided-responsibility",
   "metadata": {},
   "outputs": [
    {
     "name": "stdout",
     "output_type": "stream",
     "text": [
      "TensorFlow installation not found - running with reduced feature set.\n",
      "W0424 16:17:34.416265 123145416310784 plugin_event_accumulator.py:320] Found more than one graph event per run, or there was a metagraph containing a graph_def, as well as one or more graph events.  Overwriting the graph with the newest event.\n",
      "W0424 16:17:34.416455 123145416310784 plugin_event_accumulator.py:358] Found more than one \"run metadata\" event with tag step1. Overwriting it with the newest event.\n",
      "Serving TensorBoard on localhost; to expose to the network, use a proxy or pass --bind_all\n",
      "TensorBoard 2.4.0 at http://localhost:6006/ (Press CTRL+C to quit)\n"
     ]
    }
   ],
   "source": [
    "!tensorboard --logdir=runs"
   ]
  },
  {
   "cell_type": "code",
   "execution_count": null,
   "id": "instrumental-corner",
   "metadata": {},
   "outputs": [],
   "source": []
  },
  {
   "cell_type": "code",
   "execution_count": null,
   "id": "neural-intensity",
   "metadata": {},
   "outputs": [],
   "source": []
  },
  {
   "cell_type": "code",
   "execution_count": null,
   "id": "democratic-victorian",
   "metadata": {},
   "outputs": [],
   "source": []
  }
 ],
 "metadata": {
  "kernelspec": {
   "display_name": "Python 3",
   "language": "python",
   "name": "python3"
  },
  "language_info": {
   "codemirror_mode": {
    "name": "ipython",
    "version": 3
   },
   "file_extension": ".py",
   "mimetype": "text/x-python",
   "name": "python",
   "nbconvert_exporter": "python",
   "pygments_lexer": "ipython3",
   "version": "3.8.5"
  }
 },
 "nbformat": 4,
 "nbformat_minor": 5
}
